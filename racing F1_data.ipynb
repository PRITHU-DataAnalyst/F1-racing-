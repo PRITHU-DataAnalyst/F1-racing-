{
 "cells": [
  {
   "cell_type": "code",
   "execution_count": 2,
   "id": "62d9911e",
   "metadata": {},
   "outputs": [],
   "source": [
    "import requests\n",
    "\n",
    "import pandas as pd"
   ]
  },
  {
   "cell_type": "code",
   "execution_count": 3,
   "id": "3a774541",
   "metadata": {},
   "outputs": [
    {
     "name": "stdout",
     "output_type": "stream",
     "text": [
      "Requirement already satisfied: fsspec in c:\\users\\prithu\\anaconda3\\lib\\site-packages (2022.2.0)\n"
     ]
    }
   ],
   "source": [
    "!pip install fsspec"
   ]
  },
  {
   "cell_type": "code",
   "execution_count": 4,
   "id": "0601934f",
   "metadata": {},
   "outputs": [
    {
     "data": {
      "text/plain": [
       "'{\"MRData\":{\"xmlns\":\"http:\\\\/\\\\/ergast.com\\\\/mrd\\\\/1.5\",\"series\":\"f1\",\"url\":\"http://ergast.com/api/f1/2011/5/laps/999.json\",\"limit\":\"30\",\"offset\":\"0\",\"total\":\"0\",\"RaceTable\":{\"season\":\"2011\",\"round\":\"5\",\"Races\":[]}}}'"
      ]
     },
     "execution_count": 4,
     "metadata": {},
     "output_type": "execute_result"
    }
   ],
   "source": [
    "#r = requests.get(\"http://ergast.com/api/f1/2011/5/laps/999) will read xml\n",
    "#by default, to read jason you need add .jason\n",
    "r = requests.get(\"http://ergast.com/api/f1/2011/5/laps/999.json\")\n",
    "#r.headers(for time and server and other information)\n",
    "#r.json()\n",
    "r.text"
   ]
  },
  {
   "cell_type": "code",
   "execution_count": 5,
   "id": "ce00ccfa",
   "metadata": {},
   "outputs": [
    {
     "data": {
      "text/html": [
       "<div>\n",
       "<style scoped>\n",
       "    .dataframe tbody tr th:only-of-type {\n",
       "        vertical-align: middle;\n",
       "    }\n",
       "\n",
       "    .dataframe tbody tr th {\n",
       "        vertical-align: top;\n",
       "    }\n",
       "\n",
       "    .dataframe thead th {\n",
       "        text-align: right;\n",
       "    }\n",
       "</style>\n",
       "<table border=\"1\" class=\"dataframe\">\n",
       "  <thead>\n",
       "    <tr style=\"text-align: right;\">\n",
       "      <th></th>\n",
       "    </tr>\n",
       "  </thead>\n",
       "  <tbody>\n",
       "  </tbody>\n",
       "</table>\n",
       "</div>"
      ],
      "text/plain": [
       "Empty DataFrame\n",
       "Columns: []\n",
       "Index: []"
      ]
     },
     "execution_count": 5,
     "metadata": {},
     "output_type": "execute_result"
    }
   ],
   "source": [
    "pd.read_json(r.text)[\"MRData\"][\"RaceTable\"]\n",
    "#another method if this dosent work\n",
    "pd.DataFrame(r.json()[\"MRData\"][\"RaceTable\"][\"Races\"])"
   ]
  },
  {
   "cell_type": "code",
   "execution_count": 6,
   "id": "e4647f46",
   "metadata": {},
   "outputs": [
    {
     "data": {
      "text/plain": [
       "[]"
      ]
     },
     "execution_count": 6,
     "metadata": {},
     "output_type": "execute_result"
    }
   ],
   "source": [
    "r.json()[\"MRData\"][\"RaceTable\"][\"Races\"]#[0][\"Laps\"][0][\"Timings\"]\n",
    "#use len opertor to see item in list\n",
    "#len(r.json()[\"MRData\"][\"RaceTable\"][\"Races\"])"
   ]
  },
  {
   "cell_type": "code",
   "execution_count": 7,
   "id": "e1821b6e",
   "metadata": {},
   "outputs": [
    {
     "data": {
      "text/html": [
       "<div>\n",
       "<style scoped>\n",
       "    .dataframe tbody tr th:only-of-type {\n",
       "        vertical-align: middle;\n",
       "    }\n",
       "\n",
       "    .dataframe tbody tr th {\n",
       "        vertical-align: top;\n",
       "    }\n",
       "\n",
       "    .dataframe thead th {\n",
       "        text-align: right;\n",
       "    }\n",
       "</style>\n",
       "<table border=\"1\" class=\"dataframe\">\n",
       "  <thead>\n",
       "    <tr style=\"text-align: right;\">\n",
       "      <th></th>\n",
       "    </tr>\n",
       "  </thead>\n",
       "  <tbody>\n",
       "  </tbody>\n",
       "</table>\n",
       "</div>"
      ],
      "text/plain": [
       "Empty DataFrame\n",
       "Columns: []\n",
       "Index: []"
      ]
     },
     "execution_count": 7,
     "metadata": {},
     "output_type": "execute_result"
    }
   ],
   "source": [
    "#for proper format to show data\n",
    "pd.DataFrame(r.json()[\"MRData\"][\"RaceTable\"][\"Races\"])"
   ]
  },
  {
   "cell_type": "code",
   "execution_count": 8,
   "id": "980a039c",
   "metadata": {},
   "outputs": [],
   "source": [
    "laps = range(1, 1000)\n",
    "for lap in laps:\n",
    "    lap_insert = str(lap)\n",
    "    r = requests.get(f\"http://ergast.com/api/f1/2011/5/laps/{lap_insert}.json\")\n",
    "    if len(r.json()[\"MRData\"][\"RaceTable\"][\"Races\"]) == 0:\n",
    "        break\n",
    "    else:\n",
    "        temp = pd.DataFrame(r.json()[\"MRData\"][\"RaceTable\"][\"Races\"][0][\"Laps\"][0][\"Timings\"])\n",
    "        temp.to_csv(f\"lap_number_{lap_insert}.csv\")"
   ]
  },
  {
   "cell_type": "code",
   "execution_count": 15,
   "id": "8173a561",
   "metadata": {},
   "outputs": [],
   "source": [
    "laps = [x for x in range(1,1000)]\n",
    "\n",
    "laps = []\n",
    "for x in range(1,1000):\n",
    "    laps.append(x)"
   ]
  },
  {
   "cell_type": "code",
   "execution_count": 18,
   "id": "5edbaa60",
   "metadata": {},
   "outputs": [
    {
     "data": {
      "text/html": [
       "<div>\n",
       "<style scoped>\n",
       "    .dataframe tbody tr th:only-of-type {\n",
       "        vertical-align: middle;\n",
       "    }\n",
       "\n",
       "    .dataframe tbody tr th {\n",
       "        vertical-align: top;\n",
       "    }\n",
       "\n",
       "    .dataframe thead th {\n",
       "        text-align: right;\n",
       "    }\n",
       "</style>\n",
       "<table border=\"1\" class=\"dataframe\">\n",
       "  <thead>\n",
       "    <tr style=\"text-align: right;\">\n",
       "      <th></th>\n",
       "      <th>Unnamed: 0</th>\n",
       "      <th>driverId</th>\n",
       "      <th>position</th>\n",
       "      <th>time</th>\n",
       "    </tr>\n",
       "  </thead>\n",
       "  <tbody>\n",
       "    <tr>\n",
       "      <th>0</th>\n",
       "      <td>0</td>\n",
       "      <td>alonso</td>\n",
       "      <td>1</td>\n",
       "      <td>1:34.494</td>\n",
       "    </tr>\n",
       "    <tr>\n",
       "      <th>1</th>\n",
       "      <td>1</td>\n",
       "      <td>vettel</td>\n",
       "      <td>2</td>\n",
       "      <td>1:35.274</td>\n",
       "    </tr>\n",
       "    <tr>\n",
       "      <th>2</th>\n",
       "      <td>2</td>\n",
       "      <td>webber</td>\n",
       "      <td>3</td>\n",
       "      <td>1:36.329</td>\n",
       "    </tr>\n",
       "    <tr>\n",
       "      <th>3</th>\n",
       "      <td>3</td>\n",
       "      <td>hamilton</td>\n",
       "      <td>4</td>\n",
       "      <td>1:36.991</td>\n",
       "    </tr>\n",
       "    <tr>\n",
       "      <th>4</th>\n",
       "      <td>4</td>\n",
       "      <td>petrov</td>\n",
       "      <td>5</td>\n",
       "      <td>1:38.084</td>\n",
       "    </tr>\n",
       "    <tr>\n",
       "      <th>5</th>\n",
       "      <td>5</td>\n",
       "      <td>michael_schumacher</td>\n",
       "      <td>6</td>\n",
       "      <td>1:38.633</td>\n",
       "    </tr>\n",
       "    <tr>\n",
       "      <th>6</th>\n",
       "      <td>6</td>\n",
       "      <td>rosberg</td>\n",
       "      <td>7</td>\n",
       "      <td>1:39.139</td>\n",
       "    </tr>\n",
       "    <tr>\n",
       "      <th>7</th>\n",
       "      <td>7</td>\n",
       "      <td>massa</td>\n",
       "      <td>8</td>\n",
       "      <td>1:39.979</td>\n",
       "    </tr>\n",
       "    <tr>\n",
       "      <th>8</th>\n",
       "      <td>8</td>\n",
       "      <td>buemi</td>\n",
       "      <td>9</td>\n",
       "      <td>1:40.611</td>\n",
       "    </tr>\n",
       "    <tr>\n",
       "      <th>9</th>\n",
       "      <td>9</td>\n",
       "      <td>button</td>\n",
       "      <td>10</td>\n",
       "      <td>1:40.998</td>\n",
       "    </tr>\n",
       "    <tr>\n",
       "      <th>10</th>\n",
       "      <td>10</td>\n",
       "      <td>perez</td>\n",
       "      <td>11</td>\n",
       "      <td>1:41.433</td>\n",
       "    </tr>\n",
       "    <tr>\n",
       "      <th>11</th>\n",
       "      <td>11</td>\n",
       "      <td>alguersuari</td>\n",
       "      <td>12</td>\n",
       "      <td>1:41.876</td>\n",
       "    </tr>\n",
       "    <tr>\n",
       "      <th>12</th>\n",
       "      <td>12</td>\n",
       "      <td>maldonado</td>\n",
       "      <td>13</td>\n",
       "      <td>1:42.255</td>\n",
       "    </tr>\n",
       "    <tr>\n",
       "      <th>13</th>\n",
       "      <td>13</td>\n",
       "      <td>resta</td>\n",
       "      <td>14</td>\n",
       "      <td>1:42.808</td>\n",
       "    </tr>\n",
       "    <tr>\n",
       "      <th>14</th>\n",
       "      <td>14</td>\n",
       "      <td>trulli</td>\n",
       "      <td>15</td>\n",
       "      <td>1:43.553</td>\n",
       "    </tr>\n",
       "    <tr>\n",
       "      <th>15</th>\n",
       "      <td>15</td>\n",
       "      <td>kovalainen</td>\n",
       "      <td>16</td>\n",
       "      <td>1:44.276</td>\n",
       "    </tr>\n",
       "    <tr>\n",
       "      <th>16</th>\n",
       "      <td>16</td>\n",
       "      <td>heidfeld</td>\n",
       "      <td>17</td>\n",
       "      <td>1:45.164</td>\n",
       "    </tr>\n",
       "    <tr>\n",
       "      <th>17</th>\n",
       "      <td>17</td>\n",
       "      <td>sutil</td>\n",
       "      <td>18</td>\n",
       "      <td>1:46.107</td>\n",
       "    </tr>\n",
       "    <tr>\n",
       "      <th>18</th>\n",
       "      <td>18</td>\n",
       "      <td>liuzzi</td>\n",
       "      <td>19</td>\n",
       "      <td>1:46.737</td>\n",
       "    </tr>\n",
       "    <tr>\n",
       "      <th>19</th>\n",
       "      <td>19</td>\n",
       "      <td>barrichello</td>\n",
       "      <td>20</td>\n",
       "      <td>1:47.077</td>\n",
       "    </tr>\n",
       "    <tr>\n",
       "      <th>20</th>\n",
       "      <td>20</td>\n",
       "      <td>glock</td>\n",
       "      <td>21</td>\n",
       "      <td>1:47.556</td>\n",
       "    </tr>\n",
       "    <tr>\n",
       "      <th>21</th>\n",
       "      <td>21</td>\n",
       "      <td>karthikeyan</td>\n",
       "      <td>22</td>\n",
       "      <td>1:48.183</td>\n",
       "    </tr>\n",
       "    <tr>\n",
       "      <th>22</th>\n",
       "      <td>22</td>\n",
       "      <td>ambrosio</td>\n",
       "      <td>23</td>\n",
       "      <td>1:48.573</td>\n",
       "    </tr>\n",
       "    <tr>\n",
       "      <th>23</th>\n",
       "      <td>23</td>\n",
       "      <td>kobayashi</td>\n",
       "      <td>24</td>\n",
       "      <td>1:57.590</td>\n",
       "    </tr>\n",
       "  </tbody>\n",
       "</table>\n",
       "</div>"
      ],
      "text/plain": [
       "    Unnamed: 0            driverId  position      time\n",
       "0            0              alonso         1  1:34.494\n",
       "1            1              vettel         2  1:35.274\n",
       "2            2              webber         3  1:36.329\n",
       "3            3            hamilton         4  1:36.991\n",
       "4            4              petrov         5  1:38.084\n",
       "5            5  michael_schumacher         6  1:38.633\n",
       "6            6             rosberg         7  1:39.139\n",
       "7            7               massa         8  1:39.979\n",
       "8            8               buemi         9  1:40.611\n",
       "9            9              button        10  1:40.998\n",
       "10          10               perez        11  1:41.433\n",
       "11          11         alguersuari        12  1:41.876\n",
       "12          12           maldonado        13  1:42.255\n",
       "13          13               resta        14  1:42.808\n",
       "14          14              trulli        15  1:43.553\n",
       "15          15          kovalainen        16  1:44.276\n",
       "16          16            heidfeld        17  1:45.164\n",
       "17          17               sutil        18  1:46.107\n",
       "18          18              liuzzi        19  1:46.737\n",
       "19          19         barrichello        20  1:47.077\n",
       "20          20               glock        21  1:47.556\n",
       "21          21         karthikeyan        22  1:48.183\n",
       "22          22            ambrosio        23  1:48.573\n",
       "23          23           kobayashi        24  1:57.590"
      ]
     },
     "execution_count": 18,
     "metadata": {},
     "output_type": "execute_result"
    }
   ],
   "source": [
    "temp_lap = pd.read_csv('lap_number_1.csv')\n",
    "temp_lap"
   ]
  },
  {
   "cell_type": "code",
   "execution_count": 25,
   "id": "a9aceedc",
   "metadata": {},
   "outputs": [
    {
     "data": {
      "text/plain": [
       "['lap_number_1.csv',\n",
       " 'lap_number_10.csv',\n",
       " 'lap_number_11.csv',\n",
       " 'lap_number_12.csv',\n",
       " 'lap_number_13.csv',\n",
       " 'lap_number_14.csv',\n",
       " 'lap_number_15.csv',\n",
       " 'lap_number_16.csv',\n",
       " 'lap_number_17.csv',\n",
       " 'lap_number_18.csv',\n",
       " 'lap_number_19.csv',\n",
       " 'lap_number_2.csv',\n",
       " 'lap_number_20.csv',\n",
       " 'lap_number_21.csv',\n",
       " 'lap_number_22.csv',\n",
       " 'lap_number_23.csv',\n",
       " 'lap_number_24.csv',\n",
       " 'lap_number_25.csv',\n",
       " 'lap_number_26.csv',\n",
       " 'lap_number_27.csv',\n",
       " 'lap_number_28.csv',\n",
       " 'lap_number_29.csv',\n",
       " 'lap_number_3.csv',\n",
       " 'lap_number_30.csv',\n",
       " 'lap_number_31.csv',\n",
       " 'lap_number_32.csv',\n",
       " 'lap_number_33.csv',\n",
       " 'lap_number_34.csv',\n",
       " 'lap_number_35.csv',\n",
       " 'lap_number_36.csv',\n",
       " 'lap_number_37.csv',\n",
       " 'lap_number_38.csv',\n",
       " 'lap_number_39.csv',\n",
       " 'lap_number_4.csv',\n",
       " 'lap_number_40.csv',\n",
       " 'lap_number_41.csv',\n",
       " 'lap_number_42.csv',\n",
       " 'lap_number_43.csv',\n",
       " 'lap_number_44.csv',\n",
       " 'lap_number_45.csv',\n",
       " 'lap_number_46.csv',\n",
       " 'lap_number_47.csv',\n",
       " 'lap_number_48.csv',\n",
       " 'lap_number_49.csv',\n",
       " 'lap_number_5.csv',\n",
       " 'lap_number_50.csv',\n",
       " 'lap_number_51.csv',\n",
       " 'lap_number_52.csv',\n",
       " 'lap_number_53.csv',\n",
       " 'lap_number_54.csv',\n",
       " 'lap_number_55.csv',\n",
       " 'lap_number_56.csv',\n",
       " 'lap_number_57.csv',\n",
       " 'lap_number_58.csv',\n",
       " 'lap_number_59.csv',\n",
       " 'lap_number_6.csv',\n",
       " 'lap_number_60.csv',\n",
       " 'lap_number_61.csv',\n",
       " 'lap_number_62.csv',\n",
       " 'lap_number_63.csv',\n",
       " 'lap_number_64.csv',\n",
       " 'lap_number_65.csv',\n",
       " 'lap_number_66.csv',\n",
       " 'lap_number_7.csv',\n",
       " 'lap_number_8.csv',\n",
       " 'lap_number_9.csv']"
      ]
     },
     "execution_count": 25,
     "metadata": {},
     "output_type": "execute_result"
    }
   ],
   "source": [
    "#read multiple csv\n",
    "import os\n",
    "\n",
    "csvs =[ x for x in os.listdir('.') if x.endswith('.csv')]\n",
    "csvs"
   ]
  },
  {
   "cell_type": "code",
   "execution_count": 37,
   "id": "0e01066d",
   "metadata": {},
   "outputs": [
    {
     "ename": "NameError",
     "evalue": "name 'df_1' is not defined",
     "output_type": "error",
     "traceback": [
      "\u001b[1;31m---------------------------------------------------------------------------\u001b[0m",
      "\u001b[1;31mNameError\u001b[0m                                 Traceback (most recent call last)",
      "Input \u001b[1;32mIn [37]\u001b[0m, in \u001b[0;36m<cell line: 12>\u001b[1;34m()\u001b[0m\n\u001b[0;32m      9\u001b[0m data_import \u001b[38;5;241m=\u001b[39m pd\u001b[38;5;241m.\u001b[39mconcat(temp_df_list)\n\u001b[0;32m     10\u001b[0m data_import\n\u001b[1;32m---> 12\u001b[0m df_1[\u001b[38;5;124m\"\u001b[39m\u001b[38;5;124mtime\u001b[39m\u001b[38;5;124m\"\u001b[39m] \u001b[38;5;241m=\u001b[39m pd\u001b[38;5;241m.\u001b[39mto_datetime(\u001b[43mdf_1\u001b[49m[\u001b[38;5;124m\"\u001b[39m\u001b[38;5;124mtime\u001b[39m\u001b[38;5;124m\"\u001b[39m])\n\u001b[0;32m     13\u001b[0m df_1\n",
      "\u001b[1;31mNameError\u001b[0m: name 'df_1' is not defined"
     ]
    }
   ],
   "source": [
    "temp_df_list = []\n",
    "\n",
    "for i in csvs:\n",
    "    temp_df_list.append(pd.read_csv(i))\n",
    "    \n",
    "\n",
    "temp_df_list #to get output of above code\n",
    "\n",
    "data_import = pd.concat(temp_df_list)\n",
    "data_import"
   ]
  },
  {
   "cell_type": "code",
   "execution_count": 38,
   "id": "1ab786cb",
   "metadata": {},
   "outputs": [
    {
     "ename": "NameError",
     "evalue": "name 'df_1' is not defined",
     "output_type": "error",
     "traceback": [
      "\u001b[1;31m---------------------------------------------------------------------------\u001b[0m",
      "\u001b[1;31mNameError\u001b[0m                                 Traceback (most recent call last)",
      "Input \u001b[1;32mIn [38]\u001b[0m, in \u001b[0;36m<cell line: 1>\u001b[1;34m()\u001b[0m\n\u001b[1;32m----> 1\u001b[0m df_1[\u001b[38;5;124m\"\u001b[39m\u001b[38;5;124mtime\u001b[39m\u001b[38;5;124m\"\u001b[39m] \u001b[38;5;241m=\u001b[39m pd\u001b[38;5;241m.\u001b[39mto_datetime(\u001b[43mdf_1\u001b[49m[\u001b[38;5;124m\"\u001b[39m\u001b[38;5;124mtime\u001b[39m\u001b[38;5;124m\"\u001b[39m])\n\u001b[0;32m      2\u001b[0m df_1\n",
      "\u001b[1;31mNameError\u001b[0m: name 'df_1' is not defined"
     ]
    }
   ],
   "source": [
    "df_1[\"time\"] = pd.to_datetime(df_1[\"time\"])\n",
    "df_1"
   ]
  },
  {
   "cell_type": "code",
   "execution_count": null,
   "id": "8072520c",
   "metadata": {},
   "outputs": [],
   "source": []
  }
 ],
 "metadata": {
  "kernelspec": {
   "display_name": "Python 3",
   "language": "python",
   "name": "python3"
  },
  "language_info": {
   "codemirror_mode": {
    "name": "ipython",
    "version": 3
   },
   "file_extension": ".py",
   "mimetype": "text/x-python",
   "name": "python",
   "nbconvert_exporter": "python",
   "pygments_lexer": "ipython3",
   "version": "3.9.12"
  }
 },
 "nbformat": 4,
 "nbformat_minor": 5
}
